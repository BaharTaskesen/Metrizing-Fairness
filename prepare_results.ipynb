{
 "cells": [
  {
   "cell_type": "code",
   "execution_count": 3,
   "id": "illegal-causing",
   "metadata": {},
   "outputs": [],
   "source": [
    "import pandas as pd\n",
    "import numpy as np\n",
    "from sklearn import metrics"
   ]
  },
  {
   "cell_type": "code",
   "execution_count": 4,
   "id": "complex-tennessee",
   "metadata": {},
   "outputs": [],
   "source": [
    "def compute_auc(spd, accuracy):\n",
    "    sorted_inds = np.argsort(spd)\n",
    "    spd_ = np.hstack([min(spd), spd[sorted_inds], 1])\n",
    "    accuracy_ = np.hstack([0, accuracy[sorted_inds]/100, max(accuracy)/100])\n",
    "    auc_ours = metrics.auc(spd_, accuracy_)\n",
    "    return auc_ours"
   ]
  },
  {
   "cell_type": "code",
   "execution_count": 48,
   "id": "civilian-parker",
   "metadata": {},
   "outputs": [],
   "source": [
    "dataset = 'Compas'\n",
    "\n",
    "SPOD_FKDE = []\n",
    "SPOD_ours = []\n",
    "auc_FKDE_ = []\n",
    "auc_ours_ = []\n",
    "auc_zafar_ = []\n",
    "auc_sinkhorn_ = []\n",
    "accuracy_FKDE = []\n",
    "accuracy_ours = []\n",
    "accuracy_zafar = []\n",
    "SPOD_zafar = []\n",
    "\n",
    "accuracy_Sinkhorn = []\n",
    "SPOD_Sinkhorn = []\n",
    "\n",
    "times_ours, times_FKDE, times_zafar, times_Sinkhorn = [], [], [], []\n",
    "if dataset == 'Adult':\n",
    "    MMD = 0 \n",
    "else:\n",
    "    MMD = 1\n",
    "\n",
    "for seed in range(10):\n",
    "    df_FKDE = pd.read_csv('results-save/FKDE/{}_FKDE_{}_test.csv'.format(dataset, seed), index_col=0)\n",
    "    SPOD_FKDE.append(np.array(df_FKDE.statistical_parity_classification))\n",
    "    accuracy_FKDE.append(np.array(df_FKDE.accuracy))\n",
    "    df_FKDE = pd.read_csv('results-save/FKDE/{}_FKDE_{}_train.csv'.format(dataset, seed), index_col=0)\n",
    "    times_FKDE.append(df_FKDE.time)\n",
    "    auc_FKDE_.append(compute_auc(SPOD_FKDE[seed], accuracy_FKDE[seed]))\n",
    "    \n",
    "    if MMD:\n",
    "        df_Sinkhorn = pd.read_csv('results-save/NN_MMD_sinkhorn/{}_NN_Sinkhorn_AinX_test_{}.csv'.format(dataset, seed), index_col=0)\n",
    "        SPOD_Sinkhorn.append(np.array(df_Sinkhorn.statistical_parity_classification))\n",
    "        accuracy_Sinkhorn.append(np.array(df_Sinkhorn.accuracy))\n",
    "        df_Sinkhorn = pd.read_csv('results-save/NN_MMD_sinkhorn/{}_NN_Sinkhorn_AinX_train_{}.csv'.format(dataset, seed), index_col=0)\n",
    "        times_Sinkhorn.append(df_Sinkhorn.time)\n",
    "        auc_sinkhorn_.append(compute_auc(SPOD_Sinkhorn[seed], accuracy_Sinkhorn[seed]))\n",
    "    \n",
    "    if dataset == 'Adult':\n",
    "        df_zafar = pd.read_csv('results-save/zafar/{}_zafar_{}_test.csv'.format(dataset, 0), index_col=0)\n",
    "        SPOD_zafar.append(np.array(df_zafar.statistical_parity_classification))\n",
    "        accuracy_zafar.append(np.array(df_zafar.accuracy))\n",
    "        df_zafar = pd.read_csv('results-save/zafar/{}_zafar_{}_train.csv'.format(dataset, 0), index_col=0)\n",
    "        times_zafar.append(df_zafar.time)\n",
    "        auc_zafar_.append(compute_auc(SPOD_zafar[seed], accuracy_zafar[seed]))\n",
    "    else:\n",
    "        df_zafar = pd.read_csv('results-save/zafar/{}_zafar_{}_test.csv'.format(dataset, seed), index_col=0)\n",
    "        SPOD_zafar.append(np.array(df_zafar.statistical_parity_classification))\n",
    "        accuracy_zafar.append(np.array(df_zafar.accuracy))\n",
    "        df_zafar = pd.read_csv('results-save/zafar/{}_zafar_{}_train.csv'.format(dataset, seed), index_col=0)\n",
    "        times_zafar.append(df_zafar.time)\n",
    "        auc_zafar_.append(compute_auc(SPOD_zafar[seed], accuracy_zafar[seed]))\n",
    "    df_ours = pd.read_csv('results-save/NN_energy/{}_NN_AinX_test_{}.csv'.format(dataset, seed), index_col=0)\n",
    "    SPOD_ours.append(np.array(df_ours.statistical_parity_classification))\n",
    "    accuracy_ours.append(np.array(df_ours.accuracy))\n",
    "    df_ours = pd.read_csv('results-save/NN_energy/{}_NN_AinX_train_{}.csv'.format(dataset, seed), index_col=0)\n",
    "    times_ours.append(df_ours.time)\n",
    "    auc_ours_.append(compute_auc(SPOD_ours[seed], accuracy_ours[seed]))"
   ]
  },
  {
   "cell_type": "code",
   "execution_count": 49,
   "id": "proof-dimension",
   "metadata": {},
   "outputs": [],
   "source": [
    "SPOD_FKDE_ave = np.array(SPOD_FKDE).mean(axis=0)\n",
    "SPOD_ours_ave = np.array(SPOD_ours).mean(axis=0)\n",
    "accuracy_FKDE_ave = np.array(accuracy_FKDE).mean(axis=0) \n",
    "accuracy_ours_ave = np.array(accuracy_ours).mean(axis=0)\n",
    "SPOD_zafar_ave = np.array(SPOD_zafar).mean(axis=0)\n",
    "accuracy_zafar_ave = np.array(accuracy_zafar).mean(axis=0)\n",
    "if MMD:\n",
    "    SPOD_Sinkhorn_ave = np.array(SPOD_Sinkhorn).mean(axis=0)\n",
    "    accuracy_Sinkhorn_ave = np.array(accuracy_Sinkhorn).mean(axis=0) \n",
    "    times_Sinkhorn = np.abs(times_Sinkhorn).mean()\n",
    "    sorted_SPOD_sinkhorn = np.argsort(SPOD_Sinkhorn_ave)\n",
    "    auc_sinkhorn = np.array(auc_sinkhorn_).mean()"
   ]
  },
  {
   "cell_type": "code",
   "execution_count": 50,
   "id": "original-customs",
   "metadata": {},
   "outputs": [],
   "source": [
    "auc_ours = np.array(auc_ours_).mean()\n",
    "auc_zafar = np.array(auc_zafar_).mean()\n",
    "auc_FKDE = np.array(auc_FKDE_).mean()"
   ]
  },
  {
   "cell_type": "code",
   "execution_count": 51,
   "id": "given-concept",
   "metadata": {},
   "outputs": [
    {
     "name": "stdout",
     "output_type": "stream",
     "text": [
      "ZAFAR std AUC value 0.018601617739998477\n",
      "Cho et al std AUC value 0.010918469921254658\n",
      "MFL std AUC value 0.01793132815860886\n"
     ]
    }
   ],
   "source": [
    "print('ZAFAR std AUC value {}'.format(np.std(auc_zafar_)))\n",
    "print('Cho et al std AUC value {}'.format(np.std(auc_FKDE_)))\n",
    "if MMD:\n",
    "    print('Oneta et al std AUC value {}'.format(np.std(auc_sinkhorn_)))\n",
    "print('MFL std AUC value {}'.format(np.std(auc_ours_)))"
   ]
  },
  {
   "cell_type": "code",
   "execution_count": 52,
   "id": "invisible-logging",
   "metadata": {},
   "outputs": [],
   "source": [
    "import matplotlib.pyplot as plt\n",
    "from matplotlib.colors import ListedColormap\n",
    "from matplotlib import colors as mcolors\n",
    "colors = dict(mcolors.BASE_COLORS, **mcolors.CSS4_COLORS)"
   ]
  },
  {
   "cell_type": "code",
   "execution_count": 53,
   "id": "stopped-yahoo",
   "metadata": {},
   "outputs": [
    {
     "name": "stdout",
     "output_type": "stream",
     "text": [
      "AUC values: \n",
      " FKDE: 0.667192031870204, Zafar: 0.6254515827615312, ours: 0.6664757064363204\n",
      "Training Time--> FKDE: 88.29678340148926 secs, Zafar: 0.43884503841400146 secs, ours: 78.66208689117431 secs\n"
     ]
    },
    {
     "data": {
      "image/png": "[encoded data removed]",
      "text/plain": [
       "<Figure size 432x288 with 1 Axes>"
      ]
     },
     "metadata": {
      "needs_background": "light"
     },
     "output_type": "display_data"
    }
   ],
   "source": [
    "plt.close('all')\n",
    "s_ = 140\n",
    "\n",
    "plt.scatter(SPOD_zafar_ave, accuracy_zafar_ave/100, \n",
    "            c=colors['indianred'], label='Zafar et al.',\n",
    "            marker='s', s=s_, edgecolors='k', alpha=.7)\n",
    "\n",
    "plt.scatter(SPOD_FKDE_ave, accuracy_FKDE_ave/100,\n",
    "            c=colors['darkblue'], \n",
    "            label='Cho et al.',\n",
    "            marker='^', s=s_, edgecolors='k', alpha=.7)\n",
    "\n",
    "\n",
    "if MMD:\n",
    "    plt.scatter(SPOD_Sinkhorn_ave, accuracy_Sinkhorn_ave/100,\n",
    "                c=colors['yellow'], \n",
    "                label='Oneta et al.',\n",
    "                marker='d', s=s_+20, edgecolors='k', alpha=.7)\n",
    "plt.scatter(SPOD_ours_ave, accuracy_ours_ave/100, \n",
    "            c=colors['limegreen'],\n",
    "            label='MFL (ours)', marker='o', s=s_, edgecolors='k', alpha=.7)\n",
    "plt.xlabel('SPD')\n",
    "plt.ylabel('Accuracy')\n",
    "plt.legend()\n",
    "rcParams['font.family'] = 'serif'\n",
    "rcParams['font.sans-serif'] = ['Times']\n",
    "rcParams.update({'font.size': 20})\n",
    "plt.grid(alpha=.3)\n",
    "plt.tight_layout()\n",
    "plt.savefig(dataset + '.pdf')\n",
    "\n",
    "times_ours = np.abs(times_ours).mean()\n",
    "times_FKDE = np.abs(times_FKDE).mean()\n",
    "times_zafar = np.abs(times_zafar).mean()\n",
    "if MMD :\n",
    "    print('AUC values--> FKDE: {}, Zafar: {}, Sinkhorn: {}, ours: {}'.format(auc_FKDE, auc_zafar, auc_sinkhorn, auc_ours))\n",
    "    print('Training Time--> FKDE: {} secs, Zafar: {} secs,  Sinkhorn-Div: {}, ours: {} secs'.format(times_FKDE, times_zafar, times_Sinkhorn, times_ours))\n",
    "else:\n",
    "    print('AUC values: \\n FKDE: {}, Zafar: {}, ours: {}'.format(auc_FKDE, auc_zafar, auc_ours))\n",
    "    print('Training Time--> FKDE: {} secs, Zafar: {} secs, ours: {} secs'.format(times_FKDE, times_zafar, times_ours))"
   ]
  },
  {
   "cell_type": "code",
   "execution_count": 136,
   "id": "viral-morning",
   "metadata": {},
   "outputs": [
    {
     "data": {
      "image/png": "[encoded data removed]",
      "text/plain": [
       "<Figure size 432x288 with 1 Axes>"
      ]
     },
     "metadata": {
      "needs_background": "light"
     },
     "output_type": "display_data"
    }
   ],
   "source": [
    "plt.close('all')\n",
    "s_ = 140\n",
    "plt.xlim([-0.1,1+0.1])\n",
    "plt.ylim([-0.1,1+0.1])\n",
    "\n",
    "plt.scatter(SPOD_FKDE_ave+0.1, accuracy_FKDE_ave/100,\n",
    "    c=colors['gray'], marker='o', s=s_, edgecolors='k', alpha=.7)\n",
    "# plt.scatter(min(SPOD_FKDE_ave+0.1), 0,\n",
    "#     c=colors['firebrick'], marker='o', s=s_, edgecolors='k', alpha=.7)\n",
    "# plt.scatter(1, max(accuracy_FKDE_ave/100),\n",
    "#     c=colors['firebrick'], marker='o', s=s_, edgecolors='k', alpha=.7)\n",
    "# plt.scatter(min(np.arange(1,8)/10), 0, \n",
    "#             c=colors['red'], marker='o', s=s_, edgecolors='k', alpha=.7)\n",
    "# plt.scatter(min(SPOD_ours_ave+0.1), max(accuracy_ours_ave), \n",
    "#             c=colors['red'], marker='o', s=s_, edgecolors='k', alpha=.7)\n",
    "plt.plot([min(SPOD_FKDE_ave+0.1), min(SPOD_FKDE_ave+0.1)], [0, min(accuracy_FKDE_ave / 100)],\n",
    "         '--', color=colors['black'])\n",
    "plt.plot([max(SPOD_FKDE_ave+0.1), 1], [max(accuracy_FKDE_ave / 100), max(accuracy_FKDE_ave / 100)],\n",
    "         '--', color=colors['black'])\n",
    "plt.xlabel('SPD')\n",
    "plt.ylabel('Accuracy')\n",
    "# plt.legend()\n",
    "\n",
    "rcParams['font.family'] = 'serif'\n",
    "rcParams['font.sans-serif'] = ['Times']\n",
    "rcParams.update({'font.size': 20})\n",
    "plt.grid(alpha=.3)\n",
    "plt.tight_layout()\n",
    "plt.savefig('auc_computation' + '.pdf')  "
   ]
  },
  {
   "cell_type": "code",
   "execution_count": null,
   "id": "expensive-bachelor",
   "metadata": {},
   "outputs": [],
   "source": []
  }
 ],
 "metadata": {
  "kernelspec": {
   "display_name": "Python 3",
   "language": "python",
   "name": "python3"
  },
  "language_info": {
   "codemirror_mode": {
    "name": "ipython",
    "version": 3
   },
   "file_extension": ".py",
   "mimetype": "text/x-python",
   "name": "python",
   "nbconvert_exporter": "python",
   "pygments_lexer": "ipython3",
   "version": "3.8.8"
  }
 },
 "nbformat": 4,
 "nbformat_minor": 5
}
